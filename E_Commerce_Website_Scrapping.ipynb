{
  "nbformat": 4,
  "nbformat_minor": 0,
  "metadata": {
    "colab": {
      "name": "E-Commerce Website Scrapping",
      "provenance": [],
      "collapsed_sections": [],
      "authorship_tag": "ABX9TyNNv3QaxmWawy6rSLribofg",
      "include_colab_link": true
    },
    "kernelspec": {
      "name": "python3",
      "display_name": "Python 3"
    },
    "language_info": {
      "name": "python"
    }
  },
  "cells": [
    {
      "cell_type": "markdown",
      "metadata": {
        "id": "view-in-github",
        "colab_type": "text"
      },
      "source": [
        "<a href=\"https://colab.research.google.com/github/SahilS1997/E-Commerce-Website-Scrapping/blob/main/E_Commerce_Website_Scrapping.ipynb\" target=\"_parent\"><img src=\"https://colab.research.google.com/assets/colab-badge.svg\" alt=\"Open In Colab\"/></a>"
      ]
    },
    {
      "cell_type": "markdown",
      "metadata": {
        "id": "U-J2S87ulL0S"
      },
      "source": [
        "#Scrapping 50 Pages of data containing Best Mobile Phones under Rs. 20000 /- from Flipkart.com to Analyse the Products and Identify t6he best buying options\n"
      ]
    },
    {
      "cell_type": "markdown",
      "metadata": {
        "id": "cmT1UqdQk9bo"
      },
      "source": [
        "##Import Modules"
      ]
    },
    {
      "cell_type": "code",
      "metadata": {
        "id": "FLuMLPCZkUQe"
      },
      "source": [
        "import requests\n",
        "from bs4 import BeautifulSoup\n",
        "import pandas as pd\n",
        "import time\n",
        "from IPython.display import clear_output"
      ],
      "execution_count": 130,
      "outputs": []
    },
    {
      "cell_type": "markdown",
      "metadata": {
        "id": "tuDUaM3ulDsx"
      },
      "source": [
        "##Scraping Data"
      ]
    },
    {
      "cell_type": "code",
      "metadata": {
        "colab": {
          "base_uri": "https://localhost:8080/"
        },
        "id": "_DrrVsZzlDRI",
        "outputId": "72ba9151-8c8d-473a-e4d9-42af1cb06093"
      },
      "source": [
        "Base_url='https://www.flipkart.com/search?q=mobiles+under+20000&otracker=search&otracker1=search&marketplace=FLIPKART&as-show=on&as=off%27&sort=relevance&p%5B%5D=facets.price_range.from%3DMin&p%5B%5D=facets.price_range.to%3D20000&page='\n",
        "\n",
        "name=[] #Product name\n",
        "price=[] #Price\n",
        "star=[] #Stars\n",
        "rating = [] #Ratings\n",
        "review = [] #Reviews\n",
        "specs=[] #Specifications\n",
        "rvrt=[]\n",
        "\n",
        "for i in range(1,51):\n",
        "  time.sleep(5) #will hold the iteration for 5 secs\n",
        "  print(f'Going to scrap data from {i} page')\n",
        "  clear_output(wait=True)  #this wil clear output after each iteration\n",
        "  url=Base_url+ str(i)\n",
        "  req=requests.get(url)\n",
        "  soup=BeautifulSoup(req.text,'html')\n",
        "\n",
        "\n",
        "  #collect all the products\n",
        "  products=soup.findAll('div',attrs={'class':'_3pLy-c row'})\n",
        "  for prod in products:\n",
        "     \n",
        "\n",
        "    #Product name\n",
        "    p_name=prod.find('div',attrs={'class':'_4rR01T'}).text\n",
        "    name.append(p_name)\n",
        "\n",
        "\n",
        "    #Price\n",
        "    p_price=prod.find('div',attrs={'class':'_30jeq3 _1_WHN1'}).text.replace(',','')\n",
        "    if p_price is None:\n",
        "      price.append('Not Mentioned')\n",
        "    else:\n",
        "      price.append(p_price)\n",
        "    \n",
        "\n",
        "    #Stars\n",
        "    p_star =prod.find('div',attrs={'class':'_3LWZlK'})\n",
        "    if p_star is None:\n",
        "      star.append('No Stars')\n",
        "    else:\n",
        "      star.append(p_star.text)\n",
        "\n",
        "    #Reviews and Ratings\n",
        "    p_reviews =prod.find('span',attrs={'class':'_2_R_DZ'})    \n",
        "    \n",
        "    if p_reviews is not None:\n",
        "      rvrt.append(p_reviews.span.text.split('&')) #.split('&')) #.replace(',','').tex\n",
        "    else:\n",
        "      rvrt.append(['none'])\n",
        "  \n",
        "    #Specifications \n",
        "    p_specs=prod.find('div',attrs={'class':'fMghEO'}).text.replace('|',',')\n",
        "    specs.append(p_specs)#.replace('|',',')\n",
        "    \n",
        "'''Extracting Ratings and Reviews Separately(Optional)'''\n",
        "#ratings\n",
        "#Reviews\n",
        "for j in rvrt:    \n",
        "  if len(j) is 2:\n",
        "    rating.append(j[0].strip())\n",
        "    review.append(j[1].strip())\n",
        "  else:\n",
        "    rating.append(['0 Ratings'])\n",
        "    review.append(['0 Reviews'])"
      ],
      "execution_count": 127,
      "outputs": [
        {
          "output_type": "stream",
          "text": [
            "Going to scrap data from 50 page\n"
          ],
          "name": "stdout"
        }
      ]
    },
    {
      "cell_type": "markdown",
      "metadata": {
        "id": "V-6Q2S36X00A"
      },
      "source": [
        "## Checking whether Length of Scrapped data are Equal or not before converting to Data Frame.\n"
      ]
    },
    {
      "cell_type": "code",
      "metadata": {
        "colab": {
          "base_uri": "https://localhost:8080/"
        },
        "id": "NWetUCikvRxN",
        "outputId": "f212afb6-282a-4d02-f51e-a448af71531e"
      },
      "source": [
        "print(len(name))\n",
        "print(len(price))\n",
        "print(len(star))\n",
        "print(len(rvrt))\n",
        "print(len(rating))\n",
        "print(len(review))\n",
        "print(len(specs))\n"
      ],
      "execution_count": 131,
      "outputs": [
        {
          "output_type": "stream",
          "text": [
            "984\n",
            "984\n",
            "984\n",
            "984\n",
            "984\n",
            "984\n",
            "984\n"
          ],
          "name": "stdout"
        }
      ]
    },
    {
      "cell_type": "markdown",
      "metadata": {
        "id": "UHt631UCXv0x"
      },
      "source": [
        "##Converting Scraped Data inte Data Frame. It Converts the Data to a structured format."
      ]
    },
    {
      "cell_type": "code",
      "metadata": {
        "colab": {
          "base_uri": "https://localhost:8080/",
          "height": 419
        },
        "id": "tX4FAVlBXwI4",
        "outputId": "0fa01967-d0a5-4358-d079-af67cedd917e"
      },
      "source": [
        "data=pd.DataFrame({'Product_Name':name,\n",
        "                   'price':price,\n",
        "                   'Stars':star,\n",
        "                   'Reviews' :review,\n",
        "                   'Ratings':rating,\n",
        "                   'Specifications':specs})\n",
        "data"
      ],
      "execution_count": 128,
      "outputs": [
        {
          "output_type": "execute_result",
          "data": {
            "text/html": [
              "<div>\n",
              "<style scoped>\n",
              "    .dataframe tbody tr th:only-of-type {\n",
              "        vertical-align: middle;\n",
              "    }\n",
              "\n",
              "    .dataframe tbody tr th {\n",
              "        vertical-align: top;\n",
              "    }\n",
              "\n",
              "    .dataframe thead th {\n",
              "        text-align: right;\n",
              "    }\n",
              "</style>\n",
              "<table border=\"1\" class=\"dataframe\">\n",
              "  <thead>\n",
              "    <tr style=\"text-align: right;\">\n",
              "      <th></th>\n",
              "      <th>Product_Name</th>\n",
              "      <th>price</th>\n",
              "      <th>Stars</th>\n",
              "      <th>Reviews</th>\n",
              "      <th>Ratings</th>\n",
              "      <th>Specifications</th>\n",
              "    </tr>\n",
              "  </thead>\n",
              "  <tbody>\n",
              "    <tr>\n",
              "      <th>0</th>\n",
              "      <td>OPPO A53 (Mint Cream, 128 GB)</td>\n",
              "      <td>₹13990</td>\n",
              "      <td>4.4</td>\n",
              "      <td>1,130 Reviews</td>\n",
              "      <td>20,067 Ratings</td>\n",
              "      <td>6 GB RAM , 128 GB ROM , Expandable Upto 256 GB...</td>\n",
              "    </tr>\n",
              "    <tr>\n",
              "      <th>1</th>\n",
              "      <td>realme 8 5G (Supersonic Blue, 128 GB)</td>\n",
              "      <td>₹16999</td>\n",
              "      <td>4.3</td>\n",
              "      <td>1,354 Reviews</td>\n",
              "      <td>15,966 Ratings</td>\n",
              "      <td>8 GB RAM , 128 GB ROM , Expandable Upto 1 TB16...</td>\n",
              "    </tr>\n",
              "    <tr>\n",
              "      <th>2</th>\n",
              "      <td>realme 8 5G (Supersonic Black, 128 GB)</td>\n",
              "      <td>₹16999</td>\n",
              "      <td>4.3</td>\n",
              "      <td>1,354 Reviews</td>\n",
              "      <td>15,966 Ratings</td>\n",
              "      <td>8 GB RAM , 128 GB ROM , Expandable Upto 1 TB16...</td>\n",
              "    </tr>\n",
              "    <tr>\n",
              "      <th>3</th>\n",
              "      <td>realme 8 5G (Supersonic Black, 64 GB)</td>\n",
              "      <td>₹13999</td>\n",
              "      <td>4.3</td>\n",
              "      <td>1,499 Reviews</td>\n",
              "      <td>19,505 Ratings</td>\n",
              "      <td>4 GB RAM , 64 GB ROM , Expandable Upto 1 TB16....</td>\n",
              "    </tr>\n",
              "    <tr>\n",
              "      <th>4</th>\n",
              "      <td>realme 8 5G (Supersonic Blue, 64 GB)</td>\n",
              "      <td>₹13999</td>\n",
              "      <td>4.3</td>\n",
              "      <td>1,499 Reviews</td>\n",
              "      <td>19,505 Ratings</td>\n",
              "      <td>4 GB RAM , 64 GB ROM , Expandable Upto 1 TB16....</td>\n",
              "    </tr>\n",
              "    <tr>\n",
              "      <th>...</th>\n",
              "      <td>...</td>\n",
              "      <td>...</td>\n",
              "      <td>...</td>\n",
              "      <td>...</td>\n",
              "      <td>...</td>\n",
              "      <td>...</td>\n",
              "    </tr>\n",
              "    <tr>\n",
              "      <th>979</th>\n",
              "      <td>I Kall K 48</td>\n",
              "      <td>₹719</td>\n",
              "      <td>3.7</td>\n",
              "      <td>389 Reviews</td>\n",
              "      <td>4,521 Ratings</td>\n",
              "      <td>32 MB RAM , 64 MB ROM4.57 cm (1.8 inch) Displa...</td>\n",
              "    </tr>\n",
              "    <tr>\n",
              "      <th>980</th>\n",
              "      <td>Salora Kiano</td>\n",
              "      <td>₹1259</td>\n",
              "      <td>4.1</td>\n",
              "      <td>40 Reviews</td>\n",
              "      <td>319 Ratings</td>\n",
              "      <td>32 MB RAM , 32 MB ROM6.1 cm (2.4 inch) VGA Dis...</td>\n",
              "    </tr>\n",
              "    <tr>\n",
              "      <th>981</th>\n",
              "      <td>KARBONN KX26</td>\n",
              "      <td>₹1149</td>\n",
              "      <td>4</td>\n",
              "      <td>216 Reviews</td>\n",
              "      <td>2,280 Ratings</td>\n",
              "      <td>32 MB RAM , 32 MB ROM6.1 cm (2.4 inch) Display...</td>\n",
              "    </tr>\n",
              "    <tr>\n",
              "      <th>982</th>\n",
              "      <td>Nokia 105 DS 2020</td>\n",
              "      <td>₹1399</td>\n",
              "      <td>4.2</td>\n",
              "      <td>1,150 Reviews</td>\n",
              "      <td>14,822 Ratings</td>\n",
              "      <td>4 MB RAM , 4 MB ROM4.57 cm (1.8 inch) Quarter ...</td>\n",
              "    </tr>\n",
              "    <tr>\n",
              "      <th>983</th>\n",
              "      <td>MOTOROLA E7 Power (Coral Red, 32 GB)</td>\n",
              "      <td>₹6999</td>\n",
              "      <td>4.1</td>\n",
              "      <td>284 Reviews</td>\n",
              "      <td>3,254 Ratings</td>\n",
              "      <td>2 GB RAM , 32 GB ROM , Expandable Upto 1 TB16....</td>\n",
              "    </tr>\n",
              "  </tbody>\n",
              "</table>\n",
              "<p>984 rows × 6 columns</p>\n",
              "</div>"
            ],
            "text/plain": [
              "                               Product_Name  ...                                     Specifications\n",
              "0             OPPO A53 (Mint Cream, 128 GB)  ...  6 GB RAM , 128 GB ROM , Expandable Upto 256 GB...\n",
              "1     realme 8 5G (Supersonic Blue, 128 GB)  ...  8 GB RAM , 128 GB ROM , Expandable Upto 1 TB16...\n",
              "2    realme 8 5G (Supersonic Black, 128 GB)  ...  8 GB RAM , 128 GB ROM , Expandable Upto 1 TB16...\n",
              "3     realme 8 5G (Supersonic Black, 64 GB)  ...  4 GB RAM , 64 GB ROM , Expandable Upto 1 TB16....\n",
              "4      realme 8 5G (Supersonic Blue, 64 GB)  ...  4 GB RAM , 64 GB ROM , Expandable Upto 1 TB16....\n",
              "..                                      ...  ...                                                ...\n",
              "979                             I Kall K 48  ...  32 MB RAM , 64 MB ROM4.57 cm (1.8 inch) Displa...\n",
              "980                            Salora Kiano  ...  32 MB RAM , 32 MB ROM6.1 cm (2.4 inch) VGA Dis...\n",
              "981                            KARBONN KX26  ...  32 MB RAM , 32 MB ROM6.1 cm (2.4 inch) Display...\n",
              "982                       Nokia 105 DS 2020  ...  4 MB RAM , 4 MB ROM4.57 cm (1.8 inch) Quarter ...\n",
              "983    MOTOROLA E7 Power (Coral Red, 32 GB)  ...  2 GB RAM , 32 GB ROM , Expandable Upto 1 TB16....\n",
              "\n",
              "[984 rows x 6 columns]"
            ]
          },
          "metadata": {
            "tags": []
          },
          "execution_count": 128
        }
      ]
    },
    {
      "cell_type": "markdown",
      "metadata": {
        "id": "n3Vd29XoXWY9"
      },
      "source": [
        "## Converting the Scrapped data into .Csv file"
      ]
    },
    {
      "cell_type": "code",
      "metadata": {
        "id": "ZuuYwAG-Xl8n"
      },
      "source": [
        "data.to_csv('Best Mobile Phones under 20k.csv',index=False)"
      ],
      "execution_count": 129,
      "outputs": []
    }
  ]
}